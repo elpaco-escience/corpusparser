{
 "cells": [
  {
   "cell_type": "code",
   "execution_count": null,
   "id": "c9254294",
   "metadata": {},
   "outputs": [],
   "source": [
    "import librosa \n",
    "from scipy.signal import lfilter\n",
    "import numpy as np\n",
    "from librosa import mel_frequencies\n",
    "import warnings\n",
    "import matplotlib.pyplot as plt"
   ]
  },
  {
   "cell_type": "markdown",
   "id": "f7d176cc",
   "metadata": {},
   "source": [
    "# Plotting waveforms"
   ]
  },
  {
   "cell_type": "code",
   "execution_count": null,
   "id": "9f10a85d",
   "metadata": {},
   "outputs": [],
   "source": [
    "# plot some example audio \n",
    "nrows = 20\n",
    "ncols = 12\n",
    "zoom = 2\n",
    "fig, axs = plt.subplots(ncols=ncols, nrows = nrows,figsize = (ncols*zoom, nrows+zoom/1.5))\n",
    "for i, syll in tqdm(enumerate(syllable_df['audio'].values), total = nrows*ncols):\n",
    "    ax = axs.flatten()[i]\n",
    "    ax.plot(syll)\n",
    "    if i == nrows*ncols -1:\n",
    "        break"
   ]
  },
  {
   "cell_type": "markdown",
   "id": "a9641706",
   "metadata": {},
   "source": [
    "# Define spectrogram builder"
   ]
  },
  {
   "cell_type": "code",
   "execution_count": null,
   "id": "0e914550",
   "metadata": {},
   "outputs": [],
   "source": [
    "def make_spec(\n",
    "    syll_wav,\n",
    "    fs,\n",
    "    hparams,\n",
    "    mel_matrix=None,\n",
    "    use_tensorflow=False,\n",
    "    use_mel=True,\n",
    "    return_tensor=False,\n",
    "    norm_uint8=False,\n",
    "):\n",
    "    \"\"\"\n",
    "    \"\"\"\n",
    "    if use_tensorflow:\n",
    "        import tensorflow as tf\n",
    "        from avgn.signalprocessing.spectrogramming_tf import spectrogram_tensorflow\n",
    "    # convert to float\n",
    "    if type(syll_wav[0]) == int:\n",
    "        syll_wav = int16_to_float32(syll_wav)\n",
    "\n",
    "    # create spec\n",
    "    if use_tensorflow:\n",
    "        spec = spectrogram_tensorflow(syll_wav, fs, hparams)\n",
    "        if use_mel:\n",
    "            spec = tf.transpose(tf.tensordot(spec, mel_matrix, 1))\n",
    "            if not return_tensor:\n",
    "                spec = spec.numpy()\n",
    "    else:\n",
    "        spec = spectrogram(syll_wav, fs, hparams)\n",
    "        if use_mel:\n",
    "            spec = np.dot(spec.T, mel_matrix).T\n",
    "    if norm_uint8:\n",
    "        spec = (norm(spec) * 255).astype(\"uint8\")\n",
    "\n",
    "    return spec"
   ]
  },
  {
   "cell_type": "markdown",
   "id": "9c1c7549",
   "metadata": {},
   "source": [
    "Helper functions"
   ]
  },
  {
   "cell_type": "code",
   "execution_count": null,
   "id": "046f62ca",
   "metadata": {},
   "outputs": [],
   "source": [
    "def spectrogram(y, fs, hparams):\n",
    "    return _normalize(spectrogram_nn(y, fs, hparams), hparams)\n",
    "\n",
    "def spectrogram_nn(y, fs, hparams):\n",
    "    D = _stft(preemphasis(y, hparams), fs, hparams)\n",
    "    S = _amp_to_db(np.abs(D)) - hparams.ref_level_db\n",
    "    return S\n",
    "\n",
    "def preemphasis(x, hparams):\n",
    "    return signal.lfilter([1, -hparams.preemphasis], [1], x)\n",
    "\n",
    "def _amp_to_db(x):\n",
    "    return 20 * np.log10(np.maximum(1e-5, x))\n",
    "\n",
    "def _normalize(S, hparams):\n",
    "    return np.clip((S - hparams.min_level_db) / -hparams.min_level_db, 0, 1)\n",
    "\n",
    "def _stft(y, fs, hparams):\n",
    "    return librosa.stft(\n",
    "        y=y,\n",
    "        n_fft=hparams.n_fft,\n",
    "        hop_length=int(hparams.hop_length_ms / 1000 * fs),\n",
    "        win_length=int(hparams.win_length_ms / 1000 * fs),\n",
    "    )"
   ]
  },
  {
   "cell_type": "markdown",
   "id": "050ba3ba",
   "metadata": {},
   "source": [
    "Loop with parallel"
   ]
  },
  {
   "cell_type": "code",
   "execution_count": null,
   "id": "0c5b6114",
   "metadata": {},
   "outputs": [],
   "source": [
    "with Parallel(n_jobs=n_jobs, verbose=verbosity) as parallel:\n",
    "    # create spectrograms\n",
    "    syllables_spec = parallel(\n",
    "        delayed(make_spec)(\n",
    "            syllable,\n",
    "            rate,\n",
    "            hparams=dataset.hparams,\n",
    "            mel_matrix=dataset.mel_matrix,\n",
    "            use_mel=True,\n",
    "            use_tensorflow=False,\n",
    "        )\n",
    "        for syllable, rate in tqdm(\n",
    "            zip(syllable_df.audio.values, syllable_df.rate.values),\n",
    "            total=len(syllable_df),\n",
    "            desc=\"getting syllable spectrograms\",\n",
    "            leave=False,\n",
    "        )\n",
    "    )"
   ]
  },
  {
   "cell_type": "markdown",
   "id": "8180cb65",
   "metadata": {},
   "source": [
    "Test print a spectrogram"
   ]
  },
  {
   "cell_type": "code",
   "execution_count": null,
   "id": "b34e47d1",
   "metadata": {},
   "outputs": [],
   "source": [
    "# plot an example syllable\n",
    "import matplotlib.pyplot as plt\n",
    "plt.matshow(syllables_spec[100])"
   ]
  },
  {
   "cell_type": "markdown",
   "id": "10503a27",
   "metadata": {},
   "source": [
    "# Defining spectrogram printer"
   ]
  },
  {
   "cell_type": "code",
   "execution_count": null,
   "id": "b7196c38",
   "metadata": {},
   "outputs": [],
   "source": [
    "def draw_spec_set(\n",
    "    spectrograms,\n",
    "    maxrows=3,\n",
    "    colsize=10,\n",
    "    cmap=plt.cm.afmhot,\n",
    "    zoom=2,\n",
    "    ax=None,\n",
    "    axis_off=True,\n",
    "):\n",
    "    \"\"\"\n",
    "    \"\"\"\n",
    "    # get column and row sizes\n",
    "    rowsize = np.shape(spectrograms[0])[0]\n",
    "    colsize = colsize * np.shape(spectrograms[0])[1]\n",
    "\n",
    "    # create the vanvas\n",
    "    canvas = np.zeros((rowsize * maxrows, colsize))\n",
    "\n",
    "    # fill the canvas\n",
    "    column_pos = 0\n",
    "    row = 0\n",
    "    for speci, spec in enumerate(spectrograms):\n",
    "        spec_shape = np.shape(spec)\n",
    "        if column_pos + spec_shape[1] > colsize:\n",
    "            if row == maxrows - 1:\n",
    "                break\n",
    "            row += 1\n",
    "            column_pos = 0\n",
    "        canvas[\n",
    "            rowsize * (maxrows - 1 - row) : rowsize * ((maxrows - 1 - row) + 1),\n",
    "            column_pos : column_pos + spec_shape[1],\n",
    "        ] = spec\n",
    "        column_pos += spec_shape[1]\n",
    "    if row < maxrows - 1:\n",
    "        canvas = canvas[(maxrows - 1 - row) * rowsize :, :]\n",
    "    # print(speci)\n",
    "    figsize = (zoom * (colsize / rowsize), zoom * (row + 1))\n",
    "    # print(figsize, np.shape(canvas), colsize / rowsize, rowsize, colsize)\n",
    "    if ax is None:\n",
    "        fig, ax = plt.subplots(figsize=figsize)\n",
    "\n",
    "    ax.matshow(\n",
    "        canvas, cmap=cmap, origin=\"lower\", aspect=\"auto\", interpolation=\"nearest\"\n",
    "    )\n",
    "    if axis_off:\n",
    "        ax.axis(\"off\")\n",
    "    if ax is None:\n",
    "        plt.show()"
   ]
  }
 ],
 "metadata": {
  "kernelspec": {
   "display_name": "Python 3",
   "language": "python",
   "name": "python3"
  },
  "language_info": {
   "name": "python",
   "version": "3.12.5"
  }
 },
 "nbformat": 4,
 "nbformat_minor": 5
}
