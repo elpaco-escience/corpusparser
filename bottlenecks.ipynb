{
 "cells": [
  {
   "cell_type": "markdown",
   "metadata": {},
   "source": [
    "# Optimize process\n",
    "\n",
    "Here we simultaneously explore the audio loading and the parallelization problem."
   ]
  },
  {
   "cell_type": "markdown",
   "metadata": {},
   "source": [
    "## Input dataframe"
   ]
  },
  {
   "cell_type": "code",
   "execution_count": 15,
   "metadata": {},
   "outputs": [],
   "source": [
    "from pandas import read_csv"
   ]
  },
  {
   "cell_type": "code",
   "execution_count": null,
   "metadata": {},
   "outputs": [],
   "source": [
    "df = read_csv(\"test_input.csv\")\n",
    "df.head()\n",
    "df = df.head() # TODO: remove this line to test the whole set"
   ]
  },
  {
   "cell_type": "markdown",
   "metadata": {},
   "source": [
    "## Auxiliary functions: `filename_from_*`\n",
    "This adapter will help us converting our syntax (using keys and rows) into librosa's syntax (using filenames)."
   ]
  },
  {
   "cell_type": "code",
   "execution_count": 17,
   "metadata": {},
   "outputs": [],
   "source": [
    "def filename_from_key(key, data_folder = \"data\", ext = \".wav\"):\n",
    "    \"\"\" Takes the key, returns the filename \"\"\"\n",
    "    return data_folder + key + ext #TODO: consider improving this using os.path\n",
    "\n",
    "def filename_from_row(row, data_folder = \"data\", ext = \".wav\"):\n",
    "    \"\"\" Takes the row, returns the filename \"\"\"\n",
    "    return filename_from_key(row[\"key\"], data_folder, ext)"
   ]
  },
  {
   "cell_type": "markdown",
   "metadata": {},
   "source": [
    "### Examples"
   ]
  },
  {
   "cell_type": "code",
   "execution_count": 18,
   "metadata": {},
   "outputs": [
    {
     "data": {
      "text/plain": [
       "'data/catalan1/ca_f02a_m05a_und.wav'"
      ]
     },
     "execution_count": 18,
     "metadata": {},
     "output_type": "execute_result"
    }
   ],
   "source": [
    "filename_from_key(\"/catalan1/ca_f02a_m05a_und\")"
   ]
  },
  {
   "cell_type": "code",
   "execution_count": 19,
   "metadata": {},
   "outputs": [
    {
     "data": {
      "text/plain": [
       "'data/german1/5298.wav'"
      ]
     },
     "execution_count": 19,
     "metadata": {},
     "output_type": "execute_result"
    }
   ],
   "source": [
    "filename_from_row(df.iloc[0, ])"
   ]
  },
  {
   "cell_type": "markdown",
   "metadata": {},
   "source": [
    "## Extract audio features"
   ]
  },
  {
   "cell_type": "code",
   "execution_count": 20,
   "metadata": {},
   "outputs": [],
   "source": [
    "import librosa"
   ]
  },
  {
   "cell_type": "code",
   "execution_count": 21,
   "metadata": {},
   "outputs": [],
   "source": [
    "def audio_from_key(key, **kwargs):\n",
    "    \"\"\" Equivalent to librosa.core.load, but works with keys instead of with filenames \"\"\"\n",
    "    return librosa.core.load(filename_from_key(key), **kwargs)\n",
    "\n",
    "def audio_from_row(row, **kwargs):\n",
    "    \"\"\" Equivalent to librosa.core.load, but works with rows instead of with filenames \"\"\"\n",
    "    return librosa.core.load(filename_from_row(row, **kwargs))"
   ]
  },
  {
   "cell_type": "markdown",
   "metadata": {},
   "source": [
    "### Example of usage"
   ]
  },
  {
   "cell_type": "code",
   "execution_count": 22,
   "metadata": {},
   "outputs": [
    {
     "name": "stdout",
     "output_type": "stream",
     "text": [
      "[-1.6827690e-03 -2.3811827e-03 -2.2289073e-03 ... -1.8447537e-08\n",
      " -9.6680355e-07  0.0000000e+00]\n",
      "22050\n"
     ]
    }
   ],
   "source": [
    "data, rate = audio_from_key(\"/catalan1/ca_f02a_m05a_und\")\n",
    "print(data)\n",
    "print(rate)"
   ]
  },
  {
   "cell_type": "code",
   "execution_count": 23,
   "metadata": {},
   "outputs": [
    {
     "name": "stdout",
     "output_type": "stream",
     "text": [
      "[-0.00043917 -0.00046311 -0.00031764 ... -0.00100527 -0.00074906\n",
      " -0.00034924]\n",
      "22050\n"
     ]
    }
   ],
   "source": [
    "data, rate = audio_from_row(df.iloc[0, ])\n",
    "print(data)\n",
    "print(rate)"
   ]
  },
  {
   "cell_type": "markdown",
   "metadata": {},
   "source": [
    "## Compare performances using keys"
   ]
  },
  {
   "cell_type": "code",
   "execution_count": 24,
   "metadata": {},
   "outputs": [],
   "source": [
    "import dask.bag as db"
   ]
  },
  {
   "cell_type": "markdown",
   "metadata": {},
   "source": [
    "### Serial"
   ]
  },
  {
   "cell_type": "code",
   "execution_count": 25,
   "metadata": {},
   "outputs": [
    {
     "name": "stdout",
     "output_type": "stream",
     "text": [
      "/german1/5298\n",
      "22050\n",
      "/german1/5298\n",
      "22050\n",
      "/sambas1/SBS-20111031\n",
      "22050\n",
      "/sambas1/SBS-20111031\n",
      "22050\n",
      "/german1/4123\n",
      "22050\n"
     ]
    }
   ],
   "source": [
    "for row in df[\"key\"]:\n",
    "    print(row)\n",
    "    data, rate = audio_from_key(row)\n",
    "    print(rate)"
   ]
  },
  {
   "cell_type": "markdown",
   "metadata": {},
   "source": [
    "### Parallel"
   ]
  },
  {
   "cell_type": "code",
   "execution_count": 26,
   "metadata": {},
   "outputs": [
    {
     "data": {
      "image/png": "[encoded data removed]",
      "text/plain": [
       "<IPython.core.display.Image object>"
      ]
     },
     "execution_count": 26,
     "metadata": {},
     "output_type": "execute_result"
    }
   ],
   "source": [
    "bag = db.from_sequence(df[\"key\"])\n",
    "bag.map(audio_from_key).visualize()"
   ]
  },
  {
   "cell_type": "code",
   "execution_count": 27,
   "metadata": {},
   "outputs": [
    {
     "data": {
      "text/plain": [
       "[(array([-0.00043917, -0.00046311, -0.00031764, ..., -0.00100527,\n",
       "         -0.00074906, -0.00034924], dtype=float32),\n",
       "  22050),\n",
       " (array([-0.00043917, -0.00046311, -0.00031764, ..., -0.00100527,\n",
       "         -0.00074906, -0.00034924], dtype=float32),\n",
       "  22050),\n",
       " (array([-0.00298155, -0.00379412, -0.00346273, ...,  0.00318763,\n",
       "          0.00121096,  0.        ], dtype=float32),\n",
       "  22050),\n",
       " (array([-0.00298155, -0.00379412, -0.00346273, ...,  0.00318763,\n",
       "          0.00121096,  0.        ], dtype=float32),\n",
       "  22050),\n",
       " (array([-0.00047702, -0.00061028, -0.00054473, ...,  0.11889616,\n",
       "          0.07809759,  0.0338393 ], dtype=float32),\n",
       "  22050)]"
      ]
     },
     "execution_count": 27,
     "metadata": {},
     "output_type": "execute_result"
    }
   ],
   "source": [
    "bag.map(audio_from_key).compute()"
   ]
  },
  {
   "cell_type": "markdown",
   "metadata": {},
   "source": [
    "## Compare performances using rows"
   ]
  },
  {
   "cell_type": "code",
   "execution_count": 28,
   "metadata": {},
   "outputs": [
    {
     "name": "stdout",
     "output_type": "stream",
     "text": [
      "start_time                    629.96\n",
      "end_time                      630.51\n",
      "participant                        A\n",
      "utterance                        aha\n",
      "key                    /german1/5298\n",
      "language                      german\n",
      "uid            german-059-255-629960\n",
      "Name: 0, dtype: object\n",
      "22050\n",
      "start_time                    398.87\n",
      "end_time                      399.33\n",
      "participant                        A\n",
      "utterance                        aha\n",
      "key                    /german1/5298\n",
      "language                      german\n",
      "uid            german-059-151-398870\n",
      "Name: 1, dtype: object\n",
      "22050\n",
      "start_time                     2009.1\n",
      "end_time                       2009.5\n",
      "participant                 tx@ADUSBS\n",
      "utterance                         aoq\n",
      "key             /sambas1/SBS-20111031\n",
      "language                       sambas\n",
      "uid            sambas-24-0883-2009100\n",
      "Name: 2, dtype: object\n",
      "22050\n",
      "start_time                    1782.89\n",
      "end_time                       1783.4\n",
      "participant                 tx@JEPSBS\n",
      "utterance                         aoq\n",
      "key             /sambas1/SBS-20111031\n",
      "language                       sambas\n",
      "uid            sambas-24-0764-1782890\n",
      "Name: 3, dtype: object\n",
      "22050\n",
      "start_time                    341.41\n",
      "end_time                      341.83\n",
      "participant                        B\n",
      "utterance                        mhm\n",
      "key                    /german1/4123\n",
      "language                      german\n",
      "uid            german-008-097-341410\n",
      "Name: 4, dtype: object\n",
      "22050\n"
     ]
    }
   ],
   "source": [
    "for _, row in df.iterrows():\n",
    "    print(row)\n",
    "    data, rate = audio_from_row(row)\n",
    "    print(rate)"
   ]
  },
  {
   "cell_type": "code",
   "execution_count": 29,
   "metadata": {},
   "outputs": [
    {
     "data": {
      "image/png": "[encoded data removed]",
      "text/plain": [
       "<IPython.core.display.Image object>"
      ]
     },
     "execution_count": 29,
     "metadata": {},
     "output_type": "execute_result"
    }
   ],
   "source": [
    "bag = db.from_sequence(df.iterrows())\n",
    "bag.map(audio_from_row).visualize()"
   ]
  },
  {
   "cell_type": "code",
   "execution_count": 30,
   "metadata": {},
   "outputs": [],
   "source": [
    "# bag.map(audio_from_row).compute() # TODO: figure out why this fails"
   ]
  },
  {
   "cell_type": "markdown",
   "metadata": {},
   "source": [
    "## Compare performance using Dask dataframes"
   ]
  },
  {
   "cell_type": "code",
   "execution_count": 31,
   "metadata": {},
   "outputs": [],
   "source": [
    "import dask.dataframe as dd\n",
    "df_opt = dd.from_pandas(df, npartitions=8)\n"
   ]
  },
  {
   "cell_type": "code",
   "execution_count": 32,
   "metadata": {},
   "outputs": [],
   "source": [
    "# df_opt.apply(audio_from_row, axis=1).compute() # TODO: figure out why this fails"
   ]
  }
 ],
 "metadata": {
  "kernelspec": {
   "display_name": "ffmpeg-test",
   "language": "python",
   "name": "python3"
  },
  "language_info": {
   "codemirror_mode": {
    "name": "ipython",
    "version": 3
   },
   "file_extension": ".py",
   "mimetype": "text/x-python",
   "name": "python",
   "nbconvert_exporter": "python",
   "pygments_lexer": "ipython3",
   "version": "3.12.9"
  }
 },
 "nbformat": 4,
 "nbformat_minor": 2
}
