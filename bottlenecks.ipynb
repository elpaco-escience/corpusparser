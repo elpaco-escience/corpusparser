{
 "cells": [
  {
   "cell_type": "markdown",
   "metadata": {},
   "source": [
    "# Optimize process\n",
    "\n",
    "Here we simultaneously explore the audio loading and the parallelization problem."
   ]
  },
  {
   "cell_type": "markdown",
   "metadata": {},
   "source": [
    "## Input dataframe"
   ]
  },
  {
   "cell_type": "code",
   "execution_count": 1,
   "metadata": {},
   "outputs": [],
   "source": [
    "from pandas import read_csv"
   ]
  },
  {
   "cell_type": "code",
   "execution_count": 2,
   "metadata": {},
   "outputs": [
    {
     "data": {
      "text/html": [
       "<div>\n",
       "<style scoped>\n",
       "    .dataframe tbody tr th:only-of-type {\n",
       "        vertical-align: middle;\n",
       "    }\n",
       "\n",
       "    .dataframe tbody tr th {\n",
       "        vertical-align: top;\n",
       "    }\n",
       "\n",
       "    .dataframe thead th {\n",
       "        text-align: right;\n",
       "    }\n",
       "</style>\n",
       "<table border=\"1\" class=\"dataframe\">\n",
       "  <thead>\n",
       "    <tr style=\"text-align: right;\">\n",
       "      <th></th>\n",
       "      <th>start_time</th>\n",
       "      <th>end_time</th>\n",
       "      <th>participant</th>\n",
       "      <th>utterance</th>\n",
       "      <th>key</th>\n",
       "      <th>language</th>\n",
       "      <th>uid</th>\n",
       "    </tr>\n",
       "  </thead>\n",
       "  <tbody>\n",
       "    <tr>\n",
       "      <th>0</th>\n",
       "      <td>629.96</td>\n",
       "      <td>630.51</td>\n",
       "      <td>A</td>\n",
       "      <td>aha</td>\n",
       "      <td>/german1/5298</td>\n",
       "      <td>german</td>\n",
       "      <td>german-059-255-629960</td>\n",
       "    </tr>\n",
       "    <tr>\n",
       "      <th>1</th>\n",
       "      <td>398.87</td>\n",
       "      <td>399.33</td>\n",
       "      <td>A</td>\n",
       "      <td>aha</td>\n",
       "      <td>/german1/5298</td>\n",
       "      <td>german</td>\n",
       "      <td>german-059-151-398870</td>\n",
       "    </tr>\n",
       "    <tr>\n",
       "      <th>2</th>\n",
       "      <td>2009.10</td>\n",
       "      <td>2009.50</td>\n",
       "      <td>tx@ADUSBS</td>\n",
       "      <td>aoq</td>\n",
       "      <td>/sambas1/SBS-20111031</td>\n",
       "      <td>sambas</td>\n",
       "      <td>sambas-24-0883-2009100</td>\n",
       "    </tr>\n",
       "  </tbody>\n",
       "</table>\n",
       "</div>"
      ],
      "text/plain": [
       "   start_time  end_time participant utterance                    key language  \\\n",
       "0      629.96    630.51           A       aha          /german1/5298   german   \n",
       "1      398.87    399.33           A       aha          /german1/5298   german   \n",
       "2     2009.10   2009.50   tx@ADUSBS       aoq  /sambas1/SBS-20111031   sambas   \n",
       "\n",
       "                      uid  \n",
       "0   german-059-255-629960  \n",
       "1   german-059-151-398870  \n",
       "2  sambas-24-0883-2009100  "
      ]
     },
     "execution_count": 2,
     "metadata": {},
     "output_type": "execute_result"
    }
   ],
   "source": [
    "df = read_csv(\"test_input.csv\")\n",
    "df.head()\n",
    "df = df.head(3) # TODO: remove this line to test the whole set\n",
    "df"
   ]
  },
  {
   "cell_type": "markdown",
   "metadata": {},
   "source": [
    "## Auxiliary functions:\n",
    "This adapter will help us converting our syntax (using keys) into librosa's syntax (using filenames)."
   ]
  },
  {
   "cell_type": "code",
   "execution_count": 3,
   "metadata": {},
   "outputs": [],
   "source": [
    "def filename_from_key(key, data_folder = \"data\", ext = \".wav\"):\n",
    "    \"\"\" Takes the key, returns the filename \"\"\"\n",
    "    return data_folder + key + ext #TODO: consider improving this using os.path"
   ]
  },
  {
   "cell_type": "markdown",
   "metadata": {},
   "source": [
    "### Examples"
   ]
  },
  {
   "cell_type": "code",
   "execution_count": 4,
   "metadata": {},
   "outputs": [
    {
     "data": {
      "text/plain": [
       "'data/catalan1/ca_f02a_m05a_und.wav'"
      ]
     },
     "execution_count": 4,
     "metadata": {},
     "output_type": "execute_result"
    }
   ],
   "source": [
    "filename_from_key(\"/catalan1/ca_f02a_m05a_und\")"
   ]
  },
  {
   "cell_type": "markdown",
   "metadata": {},
   "source": [
    "## Extract audio features"
   ]
  },
  {
   "cell_type": "code",
   "execution_count": 5,
   "metadata": {},
   "outputs": [],
   "source": [
    "import librosa"
   ]
  },
  {
   "cell_type": "code",
   "execution_count": 6,
   "metadata": {},
   "outputs": [],
   "source": [
    "def audio_from_key(key, **kwargs):\n",
    "    \"\"\" Equivalent to librosa.core.load, but works with keys instead of with filenames \"\"\"\n",
    "    return librosa.core.load(filename_from_key(key), **kwargs)"
   ]
  },
  {
   "cell_type": "markdown",
   "metadata": {},
   "source": [
    "### Example of usage"
   ]
  },
  {
   "cell_type": "code",
   "execution_count": 7,
   "metadata": {},
   "outputs": [
    {
     "name": "stdout",
     "output_type": "stream",
     "text": [
      "[-1.6827690e-03 -2.3811827e-03 -2.2289073e-03 ... -1.8447537e-08\n",
      " -9.6680355e-07  0.0000000e+00]\n",
      "22050\n"
     ]
    }
   ],
   "source": [
    "data, rate = audio_from_key(\"/catalan1/ca_f02a_m05a_und\")\n",
    "print(data)\n",
    "print(rate)"
   ]
  },
  {
   "cell_type": "markdown",
   "metadata": {},
   "source": [
    "## Compare performances"
   ]
  },
  {
   "cell_type": "code",
   "execution_count": 8,
   "metadata": {},
   "outputs": [],
   "source": [
    "import dask.bag as db"
   ]
  },
  {
   "cell_type": "markdown",
   "metadata": {},
   "source": [
    "### Serial"
   ]
  },
  {
   "cell_type": "code",
   "execution_count": 9,
   "metadata": {},
   "outputs": [
    {
     "name": "stdout",
     "output_type": "stream",
     "text": [
      "/german1/5298\n",
      "22050\n",
      "/german1/5298\n",
      "22050\n",
      "/sambas1/SBS-20111031\n",
      "22050\n"
     ]
    }
   ],
   "source": [
    "for row in df[\"key\"]:\n",
    "    print(row)\n",
    "    data, rate = audio_from_key(row)\n",
    "    print(rate)"
   ]
  },
  {
   "cell_type": "markdown",
   "metadata": {},
   "source": [
    "### Parallel"
   ]
  },
  {
   "cell_type": "code",
   "execution_count": 10,
   "metadata": {},
   "outputs": [
    {
     "data": {
      "image/png": "[encoded data removed]",
      "text/plain": [
       "<IPython.core.display.Image object>"
      ]
     },
     "execution_count": 10,
     "metadata": {},
     "output_type": "execute_result"
    }
   ],
   "source": [
    "bag = db.from_sequence(df[\"key\"])\n",
    "bag.map(audio_from_key).visualize()"
   ]
  },
  {
   "cell_type": "code",
   "execution_count": 11,
   "metadata": {},
   "outputs": [
    {
     "data": {
      "text/plain": [
       "[(array([-0.00043917, -0.00046311, -0.00031764, ..., -0.00100527,\n",
       "         -0.00074906, -0.00034924], dtype=float32),\n",
       "  22050),\n",
       " (array([-0.00043917, -0.00046311, -0.00031764, ..., -0.00100527,\n",
       "         -0.00074906, -0.00034924], dtype=float32),\n",
       "  22050),\n",
       " (array([-0.00298155, -0.00379412, -0.00346273, ...,  0.00318763,\n",
       "          0.00121096,  0.        ], dtype=float32),\n",
       "  22050)]"
      ]
     },
     "execution_count": 11,
     "metadata": {},
     "output_type": "execute_result"
    }
   ],
   "source": [
    "bag.map(audio_from_key).compute()"
   ]
  }
 ],
 "metadata": {
  "kernelspec": {
   "display_name": "ffmpeg-test",
   "language": "python",
   "name": "python3"
  },
  "language_info": {
   "codemirror_mode": {
    "name": "ipython",
    "version": 3
   },
   "file_extension": ".py",
   "mimetype": "text/x-python",
   "name": "python",
   "nbconvert_exporter": "python",
   "pygments_lexer": "ipython3",
   "version": "3.12.9"
  }
 },
 "nbformat": 4,
 "nbformat_minor": 2
}
