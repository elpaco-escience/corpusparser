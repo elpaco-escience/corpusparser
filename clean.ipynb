{
 "cells": [
  {
   "cell_type": "markdown",
   "metadata": {},
   "source": [
    "# Efficiently process dataframes"
   ]
  },
  {
   "cell_type": "markdown",
   "metadata": {},
   "source": [
    "## Import dependencies"
   ]
  },
  {
   "cell_type": "code",
   "execution_count": 1,
   "metadata": {},
   "outputs": [],
   "source": [
    "# For basic data manipulation\n",
    "import pandas as pd\n",
    "\n",
    "# For wav files processing\n",
    "import librosa\n",
    "import wavfile\n",
    "\n",
    "# For parallelization\n",
    "from tqdm import tqdm"
   ]
  },
  {
   "cell_type": "markdown",
   "metadata": {},
   "source": [
    "#### <font color='orange'>Comment 1</font>\n",
    "- check differences between `import wavfile` and `from scipy.io import wavfile`\n"
   ]
  },
  {
   "cell_type": "markdown",
   "metadata": {},
   "source": [
    "## Define auxiliary functions and parameters"
   ]
  },
  {
   "cell_type": "code",
   "execution_count": 2,
   "metadata": {},
   "outputs": [],
   "source": [
    "# Hyperparameters\n",
    "class HParams(object):\n",
    "    \"\"\" Hparams was removed from tf 2.0alpha so this is a placeholder\n",
    "    \"\"\"\n",
    "\n",
    "    def __init__(self, **kwargs):\n",
    "        self.set_defaults()\n",
    "        self.__dict__.update(kwargs)\n",
    "\n",
    "    def set_defaults(self):\n",
    "        self.win_length_ms = 5\n",
    "        self.hop_length_ms = 1\n",
    "        self.n_fft = 1024\n",
    "        self.ref_level_db = 20\n",
    "        self.min_level_db = -60\n",
    "        self.preemphasis = 0.97\n",
    "        self.num_mel_bins = 64\n",
    "        self.mel_lower_edge_hertz = 200\n",
    "        self.mel_upper_edge_hertz = 15000\n",
    "        self.power = 1.5  # for spectral inversion\n",
    "        self.griffin_lim_iters = 50\n",
    "        self.butter_lowcut = 500\n",
    "        self.butter_highcut = 15000\n",
    "        self.reduce_noise = False\n",
    "        self.noise_reduce_kwargs = {}\n",
    "        self.mask_spec = False\n",
    "        self.mask_spec_kwargs = {\"spec_thresh\": 0.9, \"offset\": 1e-10}\n",
    "        self.nex = -1\n",
    "        self.n_jobs = -1\n",
    "        self.verbosity = 1\n",
    "\n",
    "    def save(self):\n",
    "        raise NotImplementedError\n",
    "\n",
    "    def load(self):\n",
    "        raise NotImplementedError\n",
    "hparams = HParams(\n",
    "    num_mel_bins = 64,\n",
    "    mel_lower_edge_hertz=500,\n",
    "    mel_upper_edge_hertz=15000,\n",
    "    butter_lowcut = 500,\n",
    "    butter_highcut = 15000,\n",
    "    ref_level_db = 20,\n",
    "    min_level_db = -30,\n",
    "    mask_spec = True,\n",
    "    win_length_ms = 10,\n",
    "    hop_length_ms = 2,\n",
    "    nex=-1,\n",
    "    n_jobs=-1,\n",
    "    verbosity = 1,\n",
    "    )"
   ]
  },
  {
   "cell_type": "code",
   "execution_count": 3,
   "metadata": {},
   "outputs": [],
   "source": [
    "# Functions\n",
    "def read_wav(wav_loc, method=\"librosa\", **kwargs):\n",
    "    \"\"\" read wav using either librosa or scipy\n",
    "    \"\"\"\n",
    "    if method == \"librosa\":\n",
    "        if \"sr\" not in kwargs.keys():\n",
    "            kwargs[\"sr\"] = None\n",
    "        data, rate = librosa.core.load(wav_loc, **kwargs)\n",
    "    elif method == \"scipy\":\n",
    "        rate, data = wavfile.read(wav_loc) # TODO: requires package wavfile, not scipy\n",
    "    return rate, data\n",
    "\n",
    "def load_wav(wav_loc, catch_errors=True, method=\"librosa\", **kwargs):\n",
    "    if catch_errors:\n",
    "        try:\n",
    "            rate, data = read_wav(wav_loc, method=method, **kwargs)\n",
    "            return rate, data\n",
    "        except Exception as e:\n",
    "            print(e)\n",
    "            return None, None\n",
    "    else:\n",
    "        rate, data = read_wav(wav_loc, method=method, **kwargs)\n",
    "        return rate, data\n",
    "    \n",
    "def prepare_wav(wav_loc, hparams=None): # TODO: like this, this function is entirely equivalent to `load_wav`\n",
    "    \"\"\" load wav and convert to correct format\n",
    "    \"\"\"\n",
    "    # get rate and date\n",
    "    rate, data = load_wav(wav_loc)\n",
    "\n",
    "    return rate, data"
   ]
  },
  {
   "cell_type": "markdown",
   "metadata": {},
   "source": [
    "## Parse the dataframe"
   ]
  },
  {
   "cell_type": "code",
   "execution_count": 4,
   "metadata": {},
   "outputs": [
    {
     "data": {
      "text/html": [
       "<div>\n",
       "<style scoped>\n",
       "    .dataframe tbody tr th:only-of-type {\n",
       "        vertical-align: middle;\n",
       "    }\n",
       "\n",
       "    .dataframe tbody tr th {\n",
       "        vertical-align: top;\n",
       "    }\n",
       "\n",
       "    .dataframe thead th {\n",
       "        text-align: right;\n",
       "    }\n",
       "</style>\n",
       "<table border=\"1\" class=\"dataframe\">\n",
       "  <thead>\n",
       "    <tr style=\"text-align: right;\">\n",
       "      <th></th>\n",
       "      <th>start_time</th>\n",
       "      <th>end_time</th>\n",
       "      <th>participant</th>\n",
       "      <th>utterance</th>\n",
       "      <th>key</th>\n",
       "      <th>language</th>\n",
       "      <th>uid</th>\n",
       "    </tr>\n",
       "  </thead>\n",
       "  <tbody>\n",
       "    <tr>\n",
       "      <th>0</th>\n",
       "      <td>629.96</td>\n",
       "      <td>630.51</td>\n",
       "      <td>A</td>\n",
       "      <td>aha</td>\n",
       "      <td>/german1/5298</td>\n",
       "      <td>german</td>\n",
       "      <td>german-059-255-629960</td>\n",
       "    </tr>\n",
       "    <tr>\n",
       "      <th>1</th>\n",
       "      <td>398.87</td>\n",
       "      <td>399.33</td>\n",
       "      <td>A</td>\n",
       "      <td>aha</td>\n",
       "      <td>/german1/5298</td>\n",
       "      <td>german</td>\n",
       "      <td>german-059-151-398870</td>\n",
       "    </tr>\n",
       "    <tr>\n",
       "      <th>2</th>\n",
       "      <td>2009.10</td>\n",
       "      <td>2009.50</td>\n",
       "      <td>tx@ADUSBS</td>\n",
       "      <td>aoq</td>\n",
       "      <td>/sambas1/SBS-20111031</td>\n",
       "      <td>sambas</td>\n",
       "      <td>sambas-24-0883-2009100</td>\n",
       "    </tr>\n",
       "    <tr>\n",
       "      <th>3</th>\n",
       "      <td>1782.89</td>\n",
       "      <td>1783.40</td>\n",
       "      <td>tx@JEPSBS</td>\n",
       "      <td>aoq</td>\n",
       "      <td>/sambas1/SBS-20111031</td>\n",
       "      <td>sambas</td>\n",
       "      <td>sambas-24-0764-1782890</td>\n",
       "    </tr>\n",
       "    <tr>\n",
       "      <th>4</th>\n",
       "      <td>341.41</td>\n",
       "      <td>341.83</td>\n",
       "      <td>B</td>\n",
       "      <td>mhm</td>\n",
       "      <td>/german1/4123</td>\n",
       "      <td>german</td>\n",
       "      <td>german-008-097-341410</td>\n",
       "    </tr>\n",
       "  </tbody>\n",
       "</table>\n",
       "</div>"
      ],
      "text/plain": [
       "   start_time  end_time participant utterance                    key language  \\\n",
       "0      629.96    630.51           A       aha          /german1/5298   german   \n",
       "1      398.87    399.33           A       aha          /german1/5298   german   \n",
       "2     2009.10   2009.50   tx@ADUSBS       aoq  /sambas1/SBS-20111031   sambas   \n",
       "3     1782.89   1783.40   tx@JEPSBS       aoq  /sambas1/SBS-20111031   sambas   \n",
       "4      341.41    341.83           B       mhm          /german1/4123   german   \n",
       "\n",
       "                      uid  \n",
       "0   german-059-255-629960  \n",
       "1   german-059-151-398870  \n",
       "2  sambas-24-0883-2009100  \n",
       "3  sambas-24-0764-1782890  \n",
       "4   german-008-097-341410  "
      ]
     },
     "execution_count": 4,
     "metadata": {},
     "output_type": "execute_result"
    }
   ],
   "source": [
    "df = pd.read_csv(\"test_input.csv\")\n",
    "df.head()"
   ]
  },
  {
   "cell_type": "markdown",
   "metadata": {},
   "source": [
    "## Understand the dataframe"
   ]
  },
  {
   "cell_type": "code",
   "execution_count": 5,
   "metadata": {},
   "outputs": [
    {
     "data": {
      "text/plain": [
       "array([629.96])"
      ]
     },
     "execution_count": 5,
     "metadata": {},
     "output_type": "execute_result"
    }
   ],
   "source": [
    "def get_row_times(df, uid):\n",
    "    return df[df[\"uid\"] == uid].start_time.values\n",
    "\n",
    "def get_times_loop(df):\n",
    "    df[\"times\"] = df.apply(lambda row: get_row_times(df, row.uid), axis=1)\n",
    "    return df\n",
    "\n",
    "def get_times(df):\n",
    "    df[\"times\"] = df[\"start_time\"]\n",
    "    return df\n",
    "\n",
    "get_row_times(df, 'german-059-255-629960')"
   ]
  },
  {
   "cell_type": "markdown",
   "metadata": {},
   "source": [
    "## Define the analysis\n",
    "The function below defines our analysis. For each row in the dataframe it:\n",
    "1. Opens the `.wav` file listed in `key`.\n",
    "2. Extracts the values between `start_time` and `end_time`.\n",
    "3. Appends it in a new column called \"audio\".\n",
    "4. Extracts the audio bit rate.\n",
    "5. Appends it in a new column called \"rate\".\n",
    "6. Returns the enriched data frame.\n",
    "\n",
    "This is the process we want to optimize."
   ]
  },
  {
   "cell_type": "code",
   "execution_count": 6,
   "metadata": {},
   "outputs": [],
   "source": [
    "def get_row_audio(df, wav_loc, hparams):\n",
    "    \"\"\" load audio and grab individual snippets\n",
    "    TODO: for large sparse WAV files, the audio should be loaded only for the syllable\n",
    "    \"\"\"\n",
    "\n",
    "    # load audio\n",
    "    rate, data = prepare_wav(wav_loc, hparams)\n",
    "    data = data.astype('float32')\n",
    "\n",
    "    # get audio for each word (row) in data frame #TODO: why not stick to the function name, extract only one row, and perform the loop outside?\n",
    "    df[\"audio\"] = [\n",
    "        data[int(st * rate) : int(et * rate)]\n",
    "        for st, et in zip(df.start_time.values, df.end_time.values)\n",
    "    ]\n",
    "\n",
    "    df[\"rate\"] = rate\n",
    "\n",
    "    return df"
   ]
  },
  {
   "cell_type": "markdown",
   "metadata": {},
   "source": [
    "The wrapper below will be convenient, as most of the information on file location is already contained in `df`."
   ]
  },
  {
   "cell_type": "code",
   "execution_count": 7,
   "metadata": {},
   "outputs": [],
   "source": [
    "def get_row_audio_path(df, hparams = hparams, path='audio_files'):\n",
    "    wav_loc = path + df.key + \".wav\" # Build file location from data frame\n",
    "    return get_row_audio(df, wav_loc, hparams)\n"
   ]
  },
  {
   "cell_type": "markdown",
   "metadata": {},
   "source": [
    "#### <font color='orange'>Comment 2</font>\n",
    "- The rate column is not correct (cf test_output.csv) \n",
    "- Row 2 and 16 are missing wav data  "
   ]
  },
  {
   "cell_type": "markdown",
   "metadata": {},
   "source": [
    "## Optimizations\n",
    "\n",
    "I propose the following approach.\n",
    "First of all, define a function that operates on a single row.\n",
    "This would be at atomic task.\n",
    "Afterwards, we'll compare different methods to complete the whole task."
   ]
  },
  {
   "cell_type": "code",
   "execution_count": 8,
   "metadata": {},
   "outputs": [
    {
     "data": {
      "text/plain": [
       "(array([-0.00043917, -0.00046311, -0.00031764, ..., -0.00100527,\n",
       "        -0.00074906, -0.00034924], dtype=float32),\n",
       " 22050)"
      ]
     },
     "execution_count": 8,
     "metadata": {},
     "output_type": "execute_result"
    }
   ],
   "source": [
    "def get_row_audio_pablo(row, path='audio_files', hparams=hparams, verbose=False):\n",
    "    \"\"\" load audio and grab individual snippets\n",
    "    TODO: for large sparse WAV files, the audio should be loaded only for the syllable\n",
    "    \"\"\"\n",
    "    # Build filename \n",
    "    wav_loc = path + row[\"key\"] + \".wav\"\n",
    "    \n",
    "    if verbose:\n",
    "        print(wav_loc)\n",
    "    \n",
    "    # Load audio\n",
    "    data, rate = librosa.core.load(wav_loc)\n",
    "\n",
    "    # Renormalize\n",
    "    data = data.astype('float32')\n",
    "    \n",
    "    # get audio for each word (row) in data frame #TODO: why not stick to the function name, extract only one row, and perform the loop outside?\n",
    "    #audio = [\n",
    "    #    data[int(st * rate) : int(et * rate)]\n",
    "    #    for st, et in zip(row.start_time, row.end_time)\n",
    "    #]\n",
    "\n",
    "    audio = data\n",
    "    return audio, rate\n",
    "\n",
    "get_row_audio_pablo(df.iloc[0, :])\n"
   ]
  },
  {
   "cell_type": "code",
   "execution_count": 9,
   "metadata": {},
   "outputs": [],
   "source": [
    "N = 2 #len(df) for doing all"
   ]
  },
  {
   "cell_type": "markdown",
   "metadata": {},
   "source": [
    "### Loop"
   ]
  },
  {
   "cell_type": "code",
   "execution_count": 10,
   "metadata": {},
   "outputs": [
    {
     "name": "stdout",
     "output_type": "stream",
     "text": [
      "audio_files/german1/5298.wav\n",
      "audio_files/german1/5298.wav\n",
      "CPU times: user 1.54 s, sys: 358 ms, total: 1.9 s\n",
      "Wall time: 1.91 s\n"
     ]
    }
   ],
   "source": [
    "%%time\n",
    "\n",
    "rates = []\n",
    "audios = []\n",
    "for i in range(N):\n",
    "    audio, rate = get_row_audio_pablo(df.iloc[i, :], verbose=True)\n",
    "    rates.append(rate)\n",
    "    audios.append(audio)"
   ]
  },
  {
   "cell_type": "markdown",
   "metadata": {},
   "source": [
    "### Loop with preallocated memory"
   ]
  },
  {
   "cell_type": "code",
   "execution_count": 11,
   "metadata": {},
   "outputs": [
    {
     "name": "stdout",
     "output_type": "stream",
     "text": [
      "audio_files/german1/5298.wav\n",
      "audio_files/german1/5298.wav\n",
      "CPU times: user 1.42 s, sys: 319 ms, total: 1.74 s\n",
      "Wall time: 1.73 s\n"
     ]
    }
   ],
   "source": [
    "%%time\n",
    "\n",
    "rates = [None]*N\n",
    "audios = [None]*N\n",
    "for i in range(N):\n",
    "    audio, rate = get_row_audio_pablo(df.iloc[i, :], verbose=True)\n",
    "    rates[i] = rate\n",
    "    audios[i] = audio"
   ]
  },
  {
   "cell_type": "markdown",
   "metadata": {},
   "source": [
    "### Using `map`"
   ]
  },
  {
   "cell_type": "code",
   "execution_count": 12,
   "metadata": {},
   "outputs": [
    {
     "data": {
      "text/plain": [
       "[(array([-0.00043917, -0.00046311, -0.00031764, ..., -0.00100527,\n",
       "         -0.00074906, -0.00034924], dtype=float32),\n",
       "  22050),\n",
       " (array([-0.00043917, -0.00046311, -0.00031764, ..., -0.00100527,\n",
       "         -0.00074906, -0.00034924], dtype=float32),\n",
       "  22050)]"
      ]
     },
     "execution_count": 12,
     "metadata": {},
     "output_type": "execute_result"
    }
   ],
   "source": [
    "\n",
    "rows = [df.iloc[i] for i in range(N)]\n",
    "list(map(get_row_audio_pablo, rows))"
   ]
  },
  {
   "cell_type": "markdown",
   "metadata": {},
   "source": [
    "## Using dask bags"
   ]
  },
  {
   "cell_type": "code",
   "execution_count": 13,
   "metadata": {},
   "outputs": [],
   "source": [
    "import dask.bag as db"
   ]
  },
  {
   "cell_type": "code",
   "execution_count": 14,
   "metadata": {},
   "outputs": [
    {
     "name": "stdout",
     "output_type": "stream",
     "text": [
      "CPU times: user 27.6 ms, sys: 3.94 ms, total: 31.5 ms\n",
      "Wall time: 233 ms\n"
     ]
    },
    {
     "data": {
      "image/png": "[encoded data removed]",
      "text/plain": [
       "<IPython.core.display.Image object>"
      ]
     },
     "execution_count": 14,
     "metadata": {},
     "output_type": "execute_result"
    }
   ],
   "source": [
    "%%time\n",
    "\n",
    "bag = db.from_sequence(rows) # Declare bag of parallelizable tasks\n",
    "bag.map(get_row_audio_pablo).visualize() # Visualize the task tree\n"
   ]
  },
  {
   "cell_type": "code",
   "execution_count": 15,
   "metadata": {},
   "outputs": [
    {
     "data": {
      "text/plain": [
       "[(array([-0.00043917, -0.00046311, -0.00031764, ..., -0.00100527,\n",
       "         -0.00074906, -0.00034924], dtype=float32),\n",
       "  22050),\n",
       " (array([-0.00043917, -0.00046311, -0.00031764, ..., -0.00100527,\n",
       "         -0.00074906, -0.00034924], dtype=float32),\n",
       "  22050)]"
      ]
     },
     "execution_count": 15,
     "metadata": {},
     "output_type": "execute_result"
    }
   ],
   "source": [
    "bag.map(get_row_audio_pablo).compute() # Execute the tasks in parallel"
   ]
  }
 ],
 "metadata": {
  "kernelspec": {
   "display_name": ".venv",
   "language": "python",
   "name": "python3"
  },
  "language_info": {
   "codemirror_mode": {
    "name": "ipython",
    "version": 3
   },
   "file_extension": ".py",
   "mimetype": "text/x-python",
   "name": "python",
   "nbconvert_exporter": "python",
   "pygments_lexer": "ipython3",
   "version": "3.10.14"
  }
 },
 "nbformat": 4,
 "nbformat_minor": 2
}
