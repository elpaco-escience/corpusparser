{
 "cells": [
  {
   "cell_type": "markdown",
   "metadata": {},
   "source": [
    "# Data frame optimization\n",
    "\n",
    "The heaviest task we want to perform on the input data frame consists on appending audio snippets.\n",
    "This involves opening a `.wav` file for each row.\n",
    "\n",
    "Some of these rows points to the same `.wav` file, so we'll make sure the file is opened only once."
   ]
  },
  {
   "cell_type": "markdown",
   "metadata": {},
   "source": [
    "## Input dataframe"
   ]
  },
  {
   "cell_type": "code",
   "execution_count": 1,
   "metadata": {},
   "outputs": [],
   "source": [
    "from pandas import read_csv"
   ]
  },
  {
   "cell_type": "code",
   "execution_count": 2,
   "metadata": {},
   "outputs": [
    {
     "data": {
      "text/html": [
       "<div>\n",
       "<style scoped>\n",
       "    .dataframe tbody tr th:only-of-type {\n",
       "        vertical-align: middle;\n",
       "    }\n",
       "\n",
       "    .dataframe tbody tr th {\n",
       "        vertical-align: top;\n",
       "    }\n",
       "\n",
       "    .dataframe thead th {\n",
       "        text-align: right;\n",
       "    }\n",
       "</style>\n",
       "<table border=\"1\" class=\"dataframe\">\n",
       "  <thead>\n",
       "    <tr style=\"text-align: right;\">\n",
       "      <th></th>\n",
       "      <th>start_time</th>\n",
       "      <th>end_time</th>\n",
       "      <th>participant</th>\n",
       "      <th>utterance</th>\n",
       "      <th>key</th>\n",
       "      <th>language</th>\n",
       "      <th>uid</th>\n",
       "    </tr>\n",
       "  </thead>\n",
       "  <tbody>\n",
       "    <tr>\n",
       "      <th>0</th>\n",
       "      <td>629.96</td>\n",
       "      <td>630.51</td>\n",
       "      <td>A</td>\n",
       "      <td>aha</td>\n",
       "      <td>/german1/5298</td>\n",
       "      <td>german</td>\n",
       "      <td>german-059-255-629960</td>\n",
       "    </tr>\n",
       "    <tr>\n",
       "      <th>1</th>\n",
       "      <td>398.87</td>\n",
       "      <td>399.33</td>\n",
       "      <td>A</td>\n",
       "      <td>aha</td>\n",
       "      <td>/german1/5298</td>\n",
       "      <td>german</td>\n",
       "      <td>german-059-151-398870</td>\n",
       "    </tr>\n",
       "    <tr>\n",
       "      <th>2</th>\n",
       "      <td>2009.10</td>\n",
       "      <td>2009.50</td>\n",
       "      <td>tx@ADUSBS</td>\n",
       "      <td>aoq</td>\n",
       "      <td>/sambas1/SBS-20111031</td>\n",
       "      <td>sambas</td>\n",
       "      <td>sambas-24-0883-2009100</td>\n",
       "    </tr>\n",
       "    <tr>\n",
       "      <th>3</th>\n",
       "      <td>1782.89</td>\n",
       "      <td>1783.40</td>\n",
       "      <td>tx@JEPSBS</td>\n",
       "      <td>aoq</td>\n",
       "      <td>/sambas1/SBS-20111031</td>\n",
       "      <td>sambas</td>\n",
       "      <td>sambas-24-0764-1782890</td>\n",
       "    </tr>\n",
       "    <tr>\n",
       "      <th>4</th>\n",
       "      <td>341.41</td>\n",
       "      <td>341.83</td>\n",
       "      <td>B</td>\n",
       "      <td>mhm</td>\n",
       "      <td>/german1/4123</td>\n",
       "      <td>german</td>\n",
       "      <td>german-008-097-341410</td>\n",
       "    </tr>\n",
       "    <tr>\n",
       "      <th>5</th>\n",
       "      <td>622.02</td>\n",
       "      <td>622.37</td>\n",
       "      <td>A</td>\n",
       "      <td>ja</td>\n",
       "      <td>/german1/4123</td>\n",
       "      <td>german</td>\n",
       "      <td>german-008-223-622020</td>\n",
       "    </tr>\n",
       "  </tbody>\n",
       "</table>\n",
       "</div>"
      ],
      "text/plain": [
       "   start_time  end_time participant utterance                    key language  \\\n",
       "0      629.96    630.51           A       aha          /german1/5298   german   \n",
       "1      398.87    399.33           A       aha          /german1/5298   german   \n",
       "2     2009.10   2009.50   tx@ADUSBS       aoq  /sambas1/SBS-20111031   sambas   \n",
       "3     1782.89   1783.40   tx@JEPSBS       aoq  /sambas1/SBS-20111031   sambas   \n",
       "4      341.41    341.83           B       mhm          /german1/4123   german   \n",
       "5      622.02    622.37           A        ja          /german1/4123   german   \n",
       "\n",
       "                      uid  \n",
       "0   german-059-255-629960  \n",
       "1   german-059-151-398870  \n",
       "2  sambas-24-0883-2009100  \n",
       "3  sambas-24-0764-1782890  \n",
       "4   german-008-097-341410  \n",
       "5   german-008-223-622020  "
      ]
     },
     "execution_count": 2,
     "metadata": {},
     "output_type": "execute_result"
    }
   ],
   "source": [
    "df = read_csv(\"test_input.csv\")\n",
    "df = df.head(6) # Calculate just a tinier subset\n",
    "df"
   ]
  },
  {
   "cell_type": "markdown",
   "metadata": {},
   "source": [
    "Please note the times are in seconds."
   ]
  },
  {
   "cell_type": "markdown",
   "metadata": {},
   "source": [
    "## Auxiliary functions:\n",
    "This adapter will help us converting our syntax (using keys) into librosa's syntax (using filenames)."
   ]
  },
  {
   "cell_type": "code",
   "execution_count": 3,
   "metadata": {},
   "outputs": [],
   "source": [
    "def filename_from_key(key, data_folder = \"data\", ext = \".wav\"):\n",
    "    \"\"\" Takes the key, returns the filename \"\"\"\n",
    "    return data_folder + key + ext #TODO: consider improving this using os.path"
   ]
  },
  {
   "cell_type": "markdown",
   "metadata": {},
   "source": [
    "### Examples"
   ]
  },
  {
   "cell_type": "code",
   "execution_count": 4,
   "metadata": {},
   "outputs": [
    {
     "data": {
      "text/plain": [
       "'data/catalan1/ca_f02a_m05a_und.wav'"
      ]
     },
     "execution_count": 4,
     "metadata": {},
     "output_type": "execute_result"
    }
   ],
   "source": [
    "filename_from_key(\"/catalan1/ca_f02a_m05a_und\")"
   ]
  },
  {
   "cell_type": "markdown",
   "metadata": {},
   "source": [
    "## Extract audio features"
   ]
  },
  {
   "cell_type": "code",
   "execution_count": 5,
   "metadata": {},
   "outputs": [],
   "source": [
    "import librosa\n",
    "from math import floor, ceil"
   ]
  },
  {
   "cell_type": "code",
   "execution_count": 6,
   "metadata": {},
   "outputs": [],
   "source": [
    "def audio_from_key(key, sr = None, **kwargs):\n",
    "    \"\"\" Equivalent to librosa.core.load, but works with keys instead of with filenames \"\"\"\n",
    "    audio, rate = librosa.core.load(filename_from_key(key), sr=sr, **kwargs) # sr=None uses the native sampling rate\n",
    "    audio = audio.astype('float32')\n",
    "    return audio # We'll ignore the rate in this function output\n",
    "\n",
    "def samplerate_from_key(key, **kwargs):\n",
    "    \"\"\" Equivalent to librosa.get_samplerate, but works with keys instead of with filenames \"\"\"\n",
    "    return librosa.get_samplerate(filename_from_key(key), **kwargs)\n",
    "\n",
    "def subset_audio(audio, start_time, end_time, rate):\n",
    "    start_i = floor(start_time * rate)\n",
    "    end_i = ceil(end_time * rate)\n",
    "\n",
    "    if start_i < 0 or end_i > len(audio):\n",
    "        raise Exception(\"Subset out of bounds!\")\n",
    "        \n",
    "    return audio[start_i : end_i]\n",
    "\n",
    "# Some handy list comprehensions\n",
    "def audio_from_keys(keys, **kwargs):\n",
    "    return [audio_from_key(key, **kwargs) for key in keys]\n",
    "\n",
    "def samplerate_from_keys(keys, **kwargs):\n",
    "    return [samplerate_from_key(key, **kwargs) for key in keys]"
   ]
  },
  {
   "cell_type": "markdown",
   "metadata": {},
   "source": [
    "### Example of usage"
   ]
  },
  {
   "cell_type": "code",
   "execution_count": 7,
   "metadata": {},
   "outputs": [
    {
     "data": {
      "text/plain": [
       "array([-0.00175476, -0.00236511, -0.00218201, ...,  0.        ,\n",
       "        0.        ,  0.        ], dtype=float32)"
      ]
     },
     "execution_count": 7,
     "metadata": {},
     "output_type": "execute_result"
    }
   ],
   "source": [
    "audio_from_key(\"/catalan1/ca_f02a_m05a_und\")"
   ]
  },
  {
   "cell_type": "code",
   "execution_count": 8,
   "metadata": {},
   "outputs": [
    {
     "data": {
      "text/html": [
       "<div>\n",
       "<style scoped>\n",
       "    .dataframe tbody tr th:only-of-type {\n",
       "        vertical-align: middle;\n",
       "    }\n",
       "\n",
       "    .dataframe tbody tr th {\n",
       "        vertical-align: top;\n",
       "    }\n",
       "\n",
       "    .dataframe thead th {\n",
       "        text-align: right;\n",
       "    }\n",
       "</style>\n",
       "<table border=\"1\" class=\"dataframe\">\n",
       "  <thead>\n",
       "    <tr style=\"text-align: right;\">\n",
       "      <th></th>\n",
       "      <th>start_time</th>\n",
       "      <th>end_time</th>\n",
       "      <th>participant</th>\n",
       "      <th>utterance</th>\n",
       "      <th>key</th>\n",
       "      <th>language</th>\n",
       "      <th>uid</th>\n",
       "      <th>rate</th>\n",
       "    </tr>\n",
       "  </thead>\n",
       "  <tbody>\n",
       "    <tr>\n",
       "      <th>0</th>\n",
       "      <td>629.96</td>\n",
       "      <td>630.51</td>\n",
       "      <td>A</td>\n",
       "      <td>aha</td>\n",
       "      <td>/german1/5298</td>\n",
       "      <td>german</td>\n",
       "      <td>german-059-255-629960</td>\n",
       "      <td>8000</td>\n",
       "    </tr>\n",
       "    <tr>\n",
       "      <th>1</th>\n",
       "      <td>398.87</td>\n",
       "      <td>399.33</td>\n",
       "      <td>A</td>\n",
       "      <td>aha</td>\n",
       "      <td>/german1/5298</td>\n",
       "      <td>german</td>\n",
       "      <td>german-059-151-398870</td>\n",
       "      <td>8000</td>\n",
       "    </tr>\n",
       "    <tr>\n",
       "      <th>2</th>\n",
       "      <td>2009.10</td>\n",
       "      <td>2009.50</td>\n",
       "      <td>tx@ADUSBS</td>\n",
       "      <td>aoq</td>\n",
       "      <td>/sambas1/SBS-20111031</td>\n",
       "      <td>sambas</td>\n",
       "      <td>sambas-24-0883-2009100</td>\n",
       "      <td>96000</td>\n",
       "    </tr>\n",
       "    <tr>\n",
       "      <th>3</th>\n",
       "      <td>1782.89</td>\n",
       "      <td>1783.40</td>\n",
       "      <td>tx@JEPSBS</td>\n",
       "      <td>aoq</td>\n",
       "      <td>/sambas1/SBS-20111031</td>\n",
       "      <td>sambas</td>\n",
       "      <td>sambas-24-0764-1782890</td>\n",
       "      <td>96000</td>\n",
       "    </tr>\n",
       "    <tr>\n",
       "      <th>4</th>\n",
       "      <td>341.41</td>\n",
       "      <td>341.83</td>\n",
       "      <td>B</td>\n",
       "      <td>mhm</td>\n",
       "      <td>/german1/4123</td>\n",
       "      <td>german</td>\n",
       "      <td>german-008-097-341410</td>\n",
       "      <td>8000</td>\n",
       "    </tr>\n",
       "    <tr>\n",
       "      <th>5</th>\n",
       "      <td>622.02</td>\n",
       "      <td>622.37</td>\n",
       "      <td>A</td>\n",
       "      <td>ja</td>\n",
       "      <td>/german1/4123</td>\n",
       "      <td>german</td>\n",
       "      <td>german-008-223-622020</td>\n",
       "      <td>8000</td>\n",
       "    </tr>\n",
       "  </tbody>\n",
       "</table>\n",
       "</div>"
      ],
      "text/plain": [
       "   start_time  end_time participant utterance                    key language  \\\n",
       "0      629.96    630.51           A       aha          /german1/5298   german   \n",
       "1      398.87    399.33           A       aha          /german1/5298   german   \n",
       "2     2009.10   2009.50   tx@ADUSBS       aoq  /sambas1/SBS-20111031   sambas   \n",
       "3     1782.89   1783.40   tx@JEPSBS       aoq  /sambas1/SBS-20111031   sambas   \n",
       "4      341.41    341.83           B       mhm          /german1/4123   german   \n",
       "5      622.02    622.37           A        ja          /german1/4123   german   \n",
       "\n",
       "                      uid   rate  \n",
       "0   german-059-255-629960   8000  \n",
       "1   german-059-151-398870   8000  \n",
       "2  sambas-24-0883-2009100  96000  \n",
       "3  sambas-24-0764-1782890  96000  \n",
       "4   german-008-097-341410   8000  \n",
       "5   german-008-223-622020   8000  "
      ]
     },
     "execution_count": 8,
     "metadata": {},
     "output_type": "execute_result"
    }
   ],
   "source": [
    "df['rate'] = samplerate_from_keys(df['key'])\n",
    "df\n"
   ]
  },
  {
   "cell_type": "code",
   "execution_count": 9,
   "metadata": {},
   "outputs": [
    {
     "name": "stdout",
     "output_type": "stream",
     "text": [
      "/german1/5298\n",
      "[-0.00048828 -0.00024414 -0.00048828 ...  0.00097656 -0.00036621\n",
      " -0.00097656]\n",
      "[-0.00012207 -0.00061035 -0.00085449 ...  0.00012207  0.00012207\n",
      "  0.00012207]\n",
      "/german1/5298\n",
      "[-0.00048828 -0.00024414 -0.00048828 ...  0.00097656 -0.00036621\n",
      " -0.00097656]\n",
      "[-0.00097656 -0.00085449 -0.00109863 ...  0.00274658  0.003479\n",
      " -0.00134277]\n",
      "/sambas1/SBS-20111031\n",
      "[-0.00515747 -0.0050354  -0.00457764 ...  0.00054932  0.00146484\n",
      "  0.00146484]\n",
      "[ 0.00845337  0.00848389  0.00723267 ... -0.02545166 -0.02685547\n",
      " -0.02685547]\n",
      "/sambas1/SBS-20111031\n",
      "[-0.00515747 -0.0050354  -0.00457764 ...  0.00054932  0.00146484\n",
      "  0.00146484]\n",
      "[-0.01296997 -0.01293945 -0.01101685 ...  0.0005188   0.00253296\n",
      "  0.00265503]\n",
      "/german1/4123\n",
      "[-0.00048828 -0.00048828 -0.00024414 ...  0.04699707  0.13659668\n",
      "  0.11120605]\n",
      "[-0.00201416 -0.00158691 -0.00146484 ... -0.00024414 -0.00085449\n",
      "  0.00061035]\n",
      "/german1/4123\n",
      "[-0.00048828 -0.00048828 -0.00024414 ...  0.04699707  0.13659668\n",
      "  0.11120605]\n",
      "[ 0.00024414  0.          0.         ... -0.00024414 -0.00073242\n",
      " -0.00097656]\n"
     ]
    }
   ],
   "source": [
    "keys = df['key'].unique()\n",
    "for key in keys:\n",
    "    # Open the audio file only once per file (as opposed to once per row)\n",
    "    audio = audio_from_key(key)\n",
    "\n",
    "    # Extract and append the relevant audio snippet\n",
    "    aux = df[df['key'] == key]\n",
    "    for i, row in aux.iterrows():\n",
    "        #print(row)\n",
    "        audio_snippet = subset_audio(audio, row['start_time'], row['end_time'], row['rate'])\n",
    "        print(key)\n",
    "        print(audio)\n",
    "        print(audio_snippet)\n",
    "    \n",
    "    #audio_snippets = [subset_audio(audio, row['start_time'], row['end_time'], row['rate']) for _, row in aux.iterrows()]"
   ]
  },
  {
   "cell_type": "markdown",
   "metadata": {},
   "source": [
    "## Listen the recovered audio"
   ]
  },
  {
   "cell_type": "markdown",
   "metadata": {},
   "source": [
    "### Auxiliary functions"
   ]
  },
  {
   "cell_type": "code",
   "execution_count": 10,
   "metadata": {},
   "outputs": [],
   "source": [
    "from IPython.display import Audio\n",
    "def subset_audio_from_key(df, key, row=0, start_time = None, end_time = None):\n",
    "    ## Get the audio\n",
    "    sr = samplerate_from_key(key)\n",
    "    audio = audio_from_key(key, sr)\n",
    "\n",
    "    ## Cut it\n",
    "    subdf = df[df.key == key].reset_index() # So the rows start at 0\n",
    "    if(len(subdf) == 1):\n",
    "        if start_time == None: # If no time is manually provided, it gets it from the dataframe...\n",
    "            start_time = subdf['start_time']\n",
    "        if end_time == None: # ... this is useful for testing and prototyping\n",
    "            end_time = subdf['end_time']\n",
    "    else:\n",
    "        if start_time == None: # If no time is manually provided, it gets it from the dataframe...\n",
    "            start_time = subdf['start_time'][row]\n",
    "        if end_time == None: # ... this is useful for testing and prototyping\n",
    "            end_time = subdf['end_time'][row]\n",
    "\n",
    "    return subset_audio(audio, start_time, end_time, sr)\n",
    "\n",
    "def listen_audio_from_key(df, key, row=0, start_time = None, end_time = None):\n",
    "    subset = subset_audio_from_key(df, key, row, start_time, end_time)\n",
    "\n",
    "    return Audio(data = subset, rate = samplerate_from_key(key))\n"
   ]
  },
  {
   "cell_type": "code",
   "execution_count": 11,
   "metadata": {},
   "outputs": [
    {
     "data": {
      "text/html": [
       "<div>\n",
       "<style scoped>\n",
       "    .dataframe tbody tr th:only-of-type {\n",
       "        vertical-align: middle;\n",
       "    }\n",
       "\n",
       "    .dataframe tbody tr th {\n",
       "        vertical-align: top;\n",
       "    }\n",
       "\n",
       "    .dataframe thead th {\n",
       "        text-align: right;\n",
       "    }\n",
       "</style>\n",
       "<table border=\"1\" class=\"dataframe\">\n",
       "  <thead>\n",
       "    <tr style=\"text-align: right;\">\n",
       "      <th></th>\n",
       "      <th>start_time</th>\n",
       "      <th>end_time</th>\n",
       "      <th>participant</th>\n",
       "      <th>utterance</th>\n",
       "      <th>key</th>\n",
       "      <th>language</th>\n",
       "      <th>uid</th>\n",
       "      <th>rate</th>\n",
       "    </tr>\n",
       "  </thead>\n",
       "  <tbody>\n",
       "    <tr>\n",
       "      <th>0</th>\n",
       "      <td>629.96</td>\n",
       "      <td>630.51</td>\n",
       "      <td>A</td>\n",
       "      <td>aha</td>\n",
       "      <td>/german1/5298</td>\n",
       "      <td>german</td>\n",
       "      <td>german-059-255-629960</td>\n",
       "      <td>8000</td>\n",
       "    </tr>\n",
       "    <tr>\n",
       "      <th>1</th>\n",
       "      <td>398.87</td>\n",
       "      <td>399.33</td>\n",
       "      <td>A</td>\n",
       "      <td>aha</td>\n",
       "      <td>/german1/5298</td>\n",
       "      <td>german</td>\n",
       "      <td>german-059-151-398870</td>\n",
       "      <td>8000</td>\n",
       "    </tr>\n",
       "    <tr>\n",
       "      <th>2</th>\n",
       "      <td>2009.10</td>\n",
       "      <td>2009.50</td>\n",
       "      <td>tx@ADUSBS</td>\n",
       "      <td>aoq</td>\n",
       "      <td>/sambas1/SBS-20111031</td>\n",
       "      <td>sambas</td>\n",
       "      <td>sambas-24-0883-2009100</td>\n",
       "      <td>96000</td>\n",
       "    </tr>\n",
       "    <tr>\n",
       "      <th>3</th>\n",
       "      <td>1782.89</td>\n",
       "      <td>1783.40</td>\n",
       "      <td>tx@JEPSBS</td>\n",
       "      <td>aoq</td>\n",
       "      <td>/sambas1/SBS-20111031</td>\n",
       "      <td>sambas</td>\n",
       "      <td>sambas-24-0764-1782890</td>\n",
       "      <td>96000</td>\n",
       "    </tr>\n",
       "    <tr>\n",
       "      <th>4</th>\n",
       "      <td>341.41</td>\n",
       "      <td>341.83</td>\n",
       "      <td>B</td>\n",
       "      <td>mhm</td>\n",
       "      <td>/german1/4123</td>\n",
       "      <td>german</td>\n",
       "      <td>german-008-097-341410</td>\n",
       "      <td>8000</td>\n",
       "    </tr>\n",
       "    <tr>\n",
       "      <th>5</th>\n",
       "      <td>622.02</td>\n",
       "      <td>622.37</td>\n",
       "      <td>A</td>\n",
       "      <td>ja</td>\n",
       "      <td>/german1/4123</td>\n",
       "      <td>german</td>\n",
       "      <td>german-008-223-622020</td>\n",
       "      <td>8000</td>\n",
       "    </tr>\n",
       "  </tbody>\n",
       "</table>\n",
       "</div>"
      ],
      "text/plain": [
       "   start_time  end_time participant utterance                    key language  \\\n",
       "0      629.96    630.51           A       aha          /german1/5298   german   \n",
       "1      398.87    399.33           A       aha          /german1/5298   german   \n",
       "2     2009.10   2009.50   tx@ADUSBS       aoq  /sambas1/SBS-20111031   sambas   \n",
       "3     1782.89   1783.40   tx@JEPSBS       aoq  /sambas1/SBS-20111031   sambas   \n",
       "4      341.41    341.83           B       mhm          /german1/4123   german   \n",
       "5      622.02    622.37           A        ja          /german1/4123   german   \n",
       "\n",
       "                      uid   rate  \n",
       "0   german-059-255-629960   8000  \n",
       "1   german-059-151-398870   8000  \n",
       "2  sambas-24-0883-2009100  96000  \n",
       "3  sambas-24-0764-1782890  96000  \n",
       "4   german-008-097-341410   8000  \n",
       "5   german-008-223-622020   8000  "
      ]
     },
     "execution_count": 11,
     "metadata": {},
     "output_type": "execute_result"
    }
   ],
   "source": [
    "df"
   ]
  },
  {
   "cell_type": "code",
   "execution_count": 12,
   "metadata": {},
   "outputs": [],
   "source": [
    "good_key = \"/german1/5298\"\n",
    "#listen_audio_from_key(df, good_key)"
   ]
  },
  {
   "cell_type": "code",
   "execution_count": 13,
   "metadata": {},
   "outputs": [],
   "source": [
    "bad_key = \"/german1/4123\"\n",
    "#listen_audio_from_key(df, key = bad_key, row = 1)"
   ]
  },
  {
   "cell_type": "code",
   "execution_count": null,
   "metadata": {},
   "outputs": [],
   "source": []
  }
 ],
 "metadata": {
  "kernelspec": {
   "display_name": "ffmpeg-test",
   "language": "python",
   "name": "python3"
  },
  "language_info": {
   "codemirror_mode": {
    "name": "ipython",
    "version": 3
   },
   "file_extension": ".py",
   "mimetype": "text/x-python",
   "name": "python",
   "nbconvert_exporter": "python",
   "pygments_lexer": "ipython3",
   "version": "3.12.9"
  }
 },
 "nbformat": 4,
 "nbformat_minor": 2
}
