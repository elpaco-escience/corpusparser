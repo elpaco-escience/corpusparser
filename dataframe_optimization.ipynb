{
 "cells": [
  {
   "cell_type": "markdown",
   "metadata": {},
   "source": [
    "# Data frame optimization\n",
    "\n",
    "The heaviest task we want to perform on the input data frame consists on appending audio snippets.\n",
    "This involves opening a `.wav` file for each row.\n",
    "\n",
    "Some of these rows points to the same `.wav` file, so we'll make sure the file is opened only once."
   ]
  },
  {
   "cell_type": "markdown",
   "metadata": {},
   "source": [
    "## Input dataframe"
   ]
  },
  {
   "cell_type": "code",
   "execution_count": 18,
   "metadata": {},
   "outputs": [],
   "source": [
    "from pandas import read_csv"
   ]
  },
  {
   "cell_type": "code",
   "execution_count": 19,
   "metadata": {},
   "outputs": [
    {
     "data": {
      "text/html": [
       "<div>\n",
       "<style scoped>\n",
       "    .dataframe tbody tr th:only-of-type {\n",
       "        vertical-align: middle;\n",
       "    }\n",
       "\n",
       "    .dataframe tbody tr th {\n",
       "        vertical-align: top;\n",
       "    }\n",
       "\n",
       "    .dataframe thead th {\n",
       "        text-align: right;\n",
       "    }\n",
       "</style>\n",
       "<table border=\"1\" class=\"dataframe\">\n",
       "  <thead>\n",
       "    <tr style=\"text-align: right;\">\n",
       "      <th></th>\n",
       "      <th>start_time</th>\n",
       "      <th>end_time</th>\n",
       "      <th>participant</th>\n",
       "      <th>utterance</th>\n",
       "      <th>key</th>\n",
       "      <th>language</th>\n",
       "      <th>uid</th>\n",
       "    </tr>\n",
       "  </thead>\n",
       "  <tbody>\n",
       "    <tr>\n",
       "      <th>0</th>\n",
       "      <td>629.96</td>\n",
       "      <td>630.51</td>\n",
       "      <td>A</td>\n",
       "      <td>aha</td>\n",
       "      <td>/german1/5298</td>\n",
       "      <td>german</td>\n",
       "      <td>german-059-255-629960</td>\n",
       "    </tr>\n",
       "    <tr>\n",
       "      <th>1</th>\n",
       "      <td>398.87</td>\n",
       "      <td>399.33</td>\n",
       "      <td>A</td>\n",
       "      <td>aha</td>\n",
       "      <td>/german1/5298</td>\n",
       "      <td>german</td>\n",
       "      <td>german-059-151-398870</td>\n",
       "    </tr>\n",
       "    <tr>\n",
       "      <th>2</th>\n",
       "      <td>2009.10</td>\n",
       "      <td>2009.50</td>\n",
       "      <td>tx@ADUSBS</td>\n",
       "      <td>aoq</td>\n",
       "      <td>/sambas1/SBS-20111031</td>\n",
       "      <td>sambas</td>\n",
       "      <td>sambas-24-0883-2009100</td>\n",
       "    </tr>\n",
       "    <tr>\n",
       "      <th>3</th>\n",
       "      <td>1782.89</td>\n",
       "      <td>1783.40</td>\n",
       "      <td>tx@JEPSBS</td>\n",
       "      <td>aoq</td>\n",
       "      <td>/sambas1/SBS-20111031</td>\n",
       "      <td>sambas</td>\n",
       "      <td>sambas-24-0764-1782890</td>\n",
       "    </tr>\n",
       "  </tbody>\n",
       "</table>\n",
       "</div>"
      ],
      "text/plain": [
       "   start_time  end_time participant utterance                    key language  \\\n",
       "0      629.96    630.51           A       aha          /german1/5298   german   \n",
       "1      398.87    399.33           A       aha          /german1/5298   german   \n",
       "2     2009.10   2009.50   tx@ADUSBS       aoq  /sambas1/SBS-20111031   sambas   \n",
       "3     1782.89   1783.40   tx@JEPSBS       aoq  /sambas1/SBS-20111031   sambas   \n",
       "\n",
       "                      uid  \n",
       "0   german-059-255-629960  \n",
       "1   german-059-151-398870  \n",
       "2  sambas-24-0883-2009100  \n",
       "3  sambas-24-0764-1782890  "
      ]
     },
     "execution_count": 19,
     "metadata": {},
     "output_type": "execute_result"
    }
   ],
   "source": [
    "df = read_csv(\"test_input.csv\")\n",
    "df.head()\n",
    "df = df.head(4) # Calculate just a tinier subset\n",
    "df"
   ]
  },
  {
   "cell_type": "markdown",
   "metadata": {},
   "source": [
    "## Auxiliary functions:\n",
    "This adapter will help us converting our syntax (using keys) into librosa's syntax (using filenames)."
   ]
  },
  {
   "cell_type": "code",
   "execution_count": 20,
   "metadata": {},
   "outputs": [],
   "source": [
    "def filename_from_key(key, data_folder = \"data\", ext = \".wav\"):\n",
    "    \"\"\" Takes the key, returns the filename \"\"\"\n",
    "    return data_folder + key + ext #TODO: consider improving this using os.path"
   ]
  },
  {
   "cell_type": "markdown",
   "metadata": {},
   "source": [
    "### Examples"
   ]
  },
  {
   "cell_type": "code",
   "execution_count": 21,
   "metadata": {},
   "outputs": [
    {
     "data": {
      "text/plain": [
       "'data/catalan1/ca_f02a_m05a_und.wav'"
      ]
     },
     "execution_count": 21,
     "metadata": {},
     "output_type": "execute_result"
    }
   ],
   "source": [
    "filename_from_key(\"/catalan1/ca_f02a_m05a_und\")"
   ]
  },
  {
   "cell_type": "markdown",
   "metadata": {},
   "source": [
    "## Extract audio features"
   ]
  },
  {
   "cell_type": "code",
   "execution_count": 22,
   "metadata": {},
   "outputs": [],
   "source": [
    "import librosa"
   ]
  },
  {
   "cell_type": "code",
   "execution_count": 23,
   "metadata": {},
   "outputs": [],
   "source": [
    "def audio_from_key(key, sr = None, **kwargs):\n",
    "    \"\"\" Equivalent to librosa.core.load, but works with keys instead of with filenames \"\"\"\n",
    "    audio, rate = librosa.core.load(filename_from_key(key), sr=sr, **kwargs)\n",
    "    audio = audio.astype('float32')\n",
    "    return audio # We'll ignore the rate in this function\n",
    "\n",
    "def samplerate_from_key(key, **kwargs):\n",
    "    \"\"\" Equivalent to librosa.get_samplerate, but works with keys instead of with filenames \"\"\"\n",
    "    return librosa.get_samplerate(filename_from_key(key), **kwargs)\n",
    "\n",
    "def audio_from_keys(keys, **kwargs):\n",
    "    return [audio_from_key(key, **kwargs) for key in keys]\n",
    "\n",
    "def samplerate_from_keys(keys, **kwargs):\n",
    "    return [samplerate_from_key(key, **kwargs) for key in keys]\n",
    "\n",
    "def subset_audio(audio, start_time, end_time, rate):\n",
    "    return audio[int(start_time * rate) : int(end_time * rate)]"
   ]
  },
  {
   "cell_type": "markdown",
   "metadata": {},
   "source": [
    "### Example of usage"
   ]
  },
  {
   "cell_type": "code",
   "execution_count": 24,
   "metadata": {},
   "outputs": [
    {
     "data": {
      "text/plain": [
       "array([-0.00175476, -0.00236511, -0.00218201, ...,  0.        ,\n",
       "        0.        ,  0.        ], dtype=float32)"
      ]
     },
     "execution_count": 24,
     "metadata": {},
     "output_type": "execute_result"
    }
   ],
   "source": [
    "audio_from_key(\"/catalan1/ca_f02a_m05a_und\", sr = None)"
   ]
  },
  {
   "cell_type": "code",
   "execution_count": 25,
   "metadata": {},
   "outputs": [
    {
     "data": {
      "text/html": [
       "<div>\n",
       "<style scoped>\n",
       "    .dataframe tbody tr th:only-of-type {\n",
       "        vertical-align: middle;\n",
       "    }\n",
       "\n",
       "    .dataframe tbody tr th {\n",
       "        vertical-align: top;\n",
       "    }\n",
       "\n",
       "    .dataframe thead th {\n",
       "        text-align: right;\n",
       "    }\n",
       "</style>\n",
       "<table border=\"1\" class=\"dataframe\">\n",
       "  <thead>\n",
       "    <tr style=\"text-align: right;\">\n",
       "      <th></th>\n",
       "      <th>start_time</th>\n",
       "      <th>end_time</th>\n",
       "      <th>participant</th>\n",
       "      <th>utterance</th>\n",
       "      <th>key</th>\n",
       "      <th>language</th>\n",
       "      <th>uid</th>\n",
       "      <th>rate</th>\n",
       "    </tr>\n",
       "  </thead>\n",
       "  <tbody>\n",
       "    <tr>\n",
       "      <th>0</th>\n",
       "      <td>629.96</td>\n",
       "      <td>630.51</td>\n",
       "      <td>A</td>\n",
       "      <td>aha</td>\n",
       "      <td>/german1/5298</td>\n",
       "      <td>german</td>\n",
       "      <td>german-059-255-629960</td>\n",
       "      <td>8000</td>\n",
       "    </tr>\n",
       "    <tr>\n",
       "      <th>1</th>\n",
       "      <td>398.87</td>\n",
       "      <td>399.33</td>\n",
       "      <td>A</td>\n",
       "      <td>aha</td>\n",
       "      <td>/german1/5298</td>\n",
       "      <td>german</td>\n",
       "      <td>german-059-151-398870</td>\n",
       "      <td>8000</td>\n",
       "    </tr>\n",
       "    <tr>\n",
       "      <th>2</th>\n",
       "      <td>2009.10</td>\n",
       "      <td>2009.50</td>\n",
       "      <td>tx@ADUSBS</td>\n",
       "      <td>aoq</td>\n",
       "      <td>/sambas1/SBS-20111031</td>\n",
       "      <td>sambas</td>\n",
       "      <td>sambas-24-0883-2009100</td>\n",
       "      <td>96000</td>\n",
       "    </tr>\n",
       "    <tr>\n",
       "      <th>3</th>\n",
       "      <td>1782.89</td>\n",
       "      <td>1783.40</td>\n",
       "      <td>tx@JEPSBS</td>\n",
       "      <td>aoq</td>\n",
       "      <td>/sambas1/SBS-20111031</td>\n",
       "      <td>sambas</td>\n",
       "      <td>sambas-24-0764-1782890</td>\n",
       "      <td>96000</td>\n",
       "    </tr>\n",
       "  </tbody>\n",
       "</table>\n",
       "</div>"
      ],
      "text/plain": [
       "   start_time  end_time participant utterance                    key language  \\\n",
       "0      629.96    630.51           A       aha          /german1/5298   german   \n",
       "1      398.87    399.33           A       aha          /german1/5298   german   \n",
       "2     2009.10   2009.50   tx@ADUSBS       aoq  /sambas1/SBS-20111031   sambas   \n",
       "3     1782.89   1783.40   tx@JEPSBS       aoq  /sambas1/SBS-20111031   sambas   \n",
       "\n",
       "                      uid   rate  \n",
       "0   german-059-255-629960   8000  \n",
       "1   german-059-151-398870   8000  \n",
       "2  sambas-24-0883-2009100  96000  \n",
       "3  sambas-24-0764-1782890  96000  "
      ]
     },
     "execution_count": 25,
     "metadata": {},
     "output_type": "execute_result"
    }
   ],
   "source": [
    "df['rate'] = samplerate_from_keys(df['key'])\n",
    "df\n"
   ]
  },
  {
   "cell_type": "code",
   "execution_count": 26,
   "metadata": {},
   "outputs": [
    {
     "name": "stdout",
     "output_type": "stream",
     "text": [
      "/german1/5298\n",
      "[-0.00048828 -0.00024414 -0.00048828 ...  0.00097656 -0.00036621\n",
      " -0.00097656]\n",
      "[-0.00012207 -0.00061035 -0.00085449 ...  0.00012207  0.00012207\n",
      "  0.00012207]\n",
      "/german1/5298\n",
      "[-0.00048828 -0.00024414 -0.00048828 ...  0.00097656 -0.00036621\n",
      " -0.00097656]\n",
      "[-0.00097656 -0.00085449 -0.00109863 ...  0.00274658  0.003479\n",
      " -0.00134277]\n",
      "/sambas1/SBS-20111031\n",
      "[-0.00515747 -0.0050354  -0.00457764 ...  0.00054932  0.00146484\n",
      "  0.00146484]\n",
      "[ 0.00845337  0.00848389  0.00723267 ... -0.02545166 -0.02685547\n",
      " -0.02685547]\n",
      "/sambas1/SBS-20111031\n",
      "[-0.00515747 -0.0050354  -0.00457764 ...  0.00054932  0.00146484\n",
      "  0.00146484]\n",
      "[-0.01296997 -0.01293945 -0.01101685 ...  0.0005188   0.00253296\n",
      "  0.00265503]\n"
     ]
    }
   ],
   "source": [
    "keys = df['key'].unique()\n",
    "for key in keys:\n",
    "    # Open the audio file only once per file (as opposed to once per row)\n",
    "    audio = audio_from_key(key)\n",
    "\n",
    "    # Extract and append the relevant audio snippet\n",
    "    aux = df[df['key'] == key]\n",
    "    for i, row in aux.iterrows():\n",
    "        #print(row)\n",
    "        audio_snippet = subset_audio(audio, row['start_time'], row['end_time'], row['rate'])\n",
    "        print(key)\n",
    "        print(audio)\n",
    "        print(audio_snippet)\n",
    "    \n",
    "    #audio_snippets = [subset_audio(audio, row['start_time'], row['end_time'], row['rate']) for _, row in aux.iterrows()]"
   ]
  },
  {
   "cell_type": "markdown",
   "metadata": {},
   "source": [
    "## Listen to some files"
   ]
  },
  {
   "cell_type": "code",
   "execution_count": 27,
   "metadata": {},
   "outputs": [
    {
     "data": {
      "text/html": [
       "<div>\n",
       "<style scoped>\n",
       "    .dataframe tbody tr th:only-of-type {\n",
       "        vertical-align: middle;\n",
       "    }\n",
       "\n",
       "    .dataframe tbody tr th {\n",
       "        vertical-align: top;\n",
       "    }\n",
       "\n",
       "    .dataframe thead th {\n",
       "        text-align: right;\n",
       "    }\n",
       "</style>\n",
       "<table border=\"1\" class=\"dataframe\">\n",
       "  <thead>\n",
       "    <tr style=\"text-align: right;\">\n",
       "      <th></th>\n",
       "      <th>start_time</th>\n",
       "      <th>end_time</th>\n",
       "      <th>participant</th>\n",
       "      <th>utterance</th>\n",
       "      <th>key</th>\n",
       "      <th>language</th>\n",
       "      <th>uid</th>\n",
       "      <th>rate</th>\n",
       "    </tr>\n",
       "  </thead>\n",
       "  <tbody>\n",
       "    <tr>\n",
       "      <th>0</th>\n",
       "      <td>629.96</td>\n",
       "      <td>630.51</td>\n",
       "      <td>A</td>\n",
       "      <td>aha</td>\n",
       "      <td>/german1/5298</td>\n",
       "      <td>german</td>\n",
       "      <td>german-059-255-629960</td>\n",
       "      <td>8000</td>\n",
       "    </tr>\n",
       "    <tr>\n",
       "      <th>1</th>\n",
       "      <td>398.87</td>\n",
       "      <td>399.33</td>\n",
       "      <td>A</td>\n",
       "      <td>aha</td>\n",
       "      <td>/german1/5298</td>\n",
       "      <td>german</td>\n",
       "      <td>german-059-151-398870</td>\n",
       "      <td>8000</td>\n",
       "    </tr>\n",
       "    <tr>\n",
       "      <th>2</th>\n",
       "      <td>2009.10</td>\n",
       "      <td>2009.50</td>\n",
       "      <td>tx@ADUSBS</td>\n",
       "      <td>aoq</td>\n",
       "      <td>/sambas1/SBS-20111031</td>\n",
       "      <td>sambas</td>\n",
       "      <td>sambas-24-0883-2009100</td>\n",
       "      <td>96000</td>\n",
       "    </tr>\n",
       "    <tr>\n",
       "      <th>3</th>\n",
       "      <td>1782.89</td>\n",
       "      <td>1783.40</td>\n",
       "      <td>tx@JEPSBS</td>\n",
       "      <td>aoq</td>\n",
       "      <td>/sambas1/SBS-20111031</td>\n",
       "      <td>sambas</td>\n",
       "      <td>sambas-24-0764-1782890</td>\n",
       "      <td>96000</td>\n",
       "    </tr>\n",
       "  </tbody>\n",
       "</table>\n",
       "</div>"
      ],
      "text/plain": [
       "   start_time  end_time participant utterance                    key language  \\\n",
       "0      629.96    630.51           A       aha          /german1/5298   german   \n",
       "1      398.87    399.33           A       aha          /german1/5298   german   \n",
       "2     2009.10   2009.50   tx@ADUSBS       aoq  /sambas1/SBS-20111031   sambas   \n",
       "3     1782.89   1783.40   tx@JEPSBS       aoq  /sambas1/SBS-20111031   sambas   \n",
       "\n",
       "                      uid   rate  \n",
       "0   german-059-255-629960   8000  \n",
       "1   german-059-151-398870   8000  \n",
       "2  sambas-24-0883-2009100  96000  \n",
       "3  sambas-24-0764-1782890  96000  "
      ]
     },
     "execution_count": 27,
     "metadata": {},
     "output_type": "execute_result"
    }
   ],
   "source": [
    "df"
   ]
  },
  {
   "cell_type": "code",
   "execution_count": 28,
   "metadata": {},
   "outputs": [],
   "source": [
    "from IPython.display import Audio\n",
    "key = \"/german1/5298\"\n",
    "audio = audio_from_key(key)\n",
    "#Audio(data = audio, rate = samplerate_from_key(key))"
   ]
  },
  {
   "cell_type": "code",
   "execution_count": 29,
   "metadata": {},
   "outputs": [],
   "source": [
    "start_time = df['start_time'][0]\n",
    "end_time = df['end_time'][0]\n",
    "rate = df['rate'][0]\n",
    "\n",
    "start_index = int(start_time * rate)\n",
    "end_index = int(end_time * rate)\n",
    "\n",
    "subset = subset_audio(audio, start_time, end_time, rate)"
   ]
  },
  {
   "cell_type": "code",
   "execution_count": 30,
   "metadata": {},
   "outputs": [
    {
     "data": {
      "text/html": [
       "\n",
       "                <audio  controls=\"controls\" >\n",
       "                    <source src=\"data:audio/wav;base64,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\" type=\"audio/wav\" />\n",
       "                    Your browser does not support the audio element.\n",
       "                </audio>\n",
       "              "
      ],
      "text/plain": [
       "<IPython.lib.display.Audio object>"
      ]
     },
     "execution_count": 30,
     "metadata": {},
     "output_type": "execute_result"
    }
   ],
   "source": [
    "Audio(data = subset, rate = samplerate_from_key(key))"
   ]
  }
 ],
 "metadata": {
  "kernelspec": {
   "display_name": "ffmpeg-test",
   "language": "python",
   "name": "python3"
  },
  "language_info": {
   "codemirror_mode": {
    "name": "ipython",
    "version": 3
   },
   "file_extension": ".py",
   "mimetype": "text/x-python",
   "name": "python",
   "nbconvert_exporter": "python",
   "pygments_lexer": "ipython3",
   "version": "3.12.9"
  }
 },
 "nbformat": 4,
 "nbformat_minor": 2
}
